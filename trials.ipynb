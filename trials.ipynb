{
 "cells": [
  {
   "cell_type": "code",
   "execution_count": 1,
   "metadata": {},
   "outputs": [
    {
     "name": "stderr",
     "output_type": "stream",
     "text": [
      "/Users/adishsundar/anaconda3/envs/gemini/lib/python3.12/site-packages/tqdm/auto.py:21: TqdmWarning: IProgress not found. Please update jupyter and ipywidgets. See https://ipywidgets.readthedocs.io/en/stable/user_install.html\n",
      "  from .autonotebook import tqdm as notebook_tqdm\n"
     ]
    }
   ],
   "source": [
    "import google.generativeai as genai\n",
    "import os"
   ]
  },
  {
   "cell_type": "code",
   "execution_count": 2,
   "metadata": {},
   "outputs": [],
   "source": [
    "from dotenv import load_dotenv\n",
    "load_dotenv()  # Automatically loads variables from .env file into environment\n",
    "\n",
    "os.environ[\"GOOGLE_API_KEY\"] = os.getenv(\"GOOGLE_API_KEY\")\n",
    "genai.configure(api_key = os.environ[\"GOOGLE_API_KEY\"])"
   ]
  },
  {
   "cell_type": "code",
   "execution_count": 3,
   "metadata": {},
   "outputs": [],
   "source": [
    "model = genai.GenerativeModel(\"gemini-1.5-flash\")"
   ]
  },
  {
   "cell_type": "code",
   "execution_count": 4,
   "metadata": {},
   "outputs": [],
   "source": [
    "# Voice assistance function with enhanced topic management\n",
    "conversation_history = []\n",
    "\n",
    "def voice_assistance(user_input):\n",
    "    global conversation_history\n",
    "\n",
    "    # Improved prompt with focus on concise and direct answers\n",
    "    prompt = f\"\"\"\n",
    "    You are an AI assistant in an engaging conversation with a user. Refer to the converation history and user question below.\n",
    "    \n",
    "    ===Instructions\n",
    "    Provide a direct and informative answer, focusing on the exact details the user is asking for. \n",
    "    Avoid unnecessary elaboration or asking follow-up questions unless essential to the user’s inquiry. \n",
    "    Keep the response clear, concise, and to the point. If the topic is complex, briefly summarize the key aspects.\n",
    "\n",
    "    ===Conversation History\n",
    "    {conversation_history}\n",
    "\n",
    "    ===User Question\n",
    "    {user_input}\n",
    "    \"\"\"\n",
    "\n",
    "    response = model.generate_content(prompt).text\n",
    "\n",
    "    # Update conversation history\n",
    "    conversation_history.append({\n",
    "        'user': user_input,\n",
    "        'ai': response\n",
    "    })\n",
    "\n",
    "    return response"
   ]
  },
  {
   "cell_type": "code",
   "execution_count": 5,
   "metadata": {},
   "outputs": [
    {
     "data": {
      "text/plain": [
       "'Data science is the process of extracting knowledge and insights from data using scientific methods, algorithms, and systems. \\n'"
      ]
     },
     "execution_count": 5,
     "metadata": {},
     "output_type": "execute_result"
    }
   ],
   "source": [
    "user_input = \"Explain Data Science in one sentence\"\n",
    "voice_assistance(user_input)"
   ]
  },
  {
   "cell_type": "code",
   "execution_count": 6,
   "metadata": {},
   "outputs": [
    {
     "data": {
      "text/plain": [
       "'You asked: \"Explain Data Science in one sentence.\" \\n'"
      ]
     },
     "execution_count": 6,
     "metadata": {},
     "output_type": "execute_result"
    }
   ],
   "source": [
    "user_input = \"What was the last question I asked you?\"\n",
    "voice_assistance(user_input)"
   ]
  }
 ],
 "metadata": {
  "kernelspec": {
   "display_name": "gemini",
   "language": "python",
   "name": "python3"
  },
  "language_info": {
   "codemirror_mode": {
    "name": "ipython",
    "version": 3
   },
   "file_extension": ".py",
   "mimetype": "text/x-python",
   "name": "python",
   "nbconvert_exporter": "python",
   "pygments_lexer": "ipython3",
   "version": "3.12.7"
  }
 },
 "nbformat": 4,
 "nbformat_minor": 2
}
